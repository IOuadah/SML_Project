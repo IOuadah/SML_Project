{
 "cells": [
  {
   "cell_type": "markdown",
   "id": "c5413ae9-a16d-416b-954b-92e458497660",
   "metadata": {
    "tags": []
   },
   "source": [
    "### Imports"
   ]
  },
  {
   "cell_type": "code",
   "execution_count": 1,
   "id": "749cde3e-2cf4-4716-b87d-39ba510cd72a",
   "metadata": {},
   "outputs": [],
   "source": [
    "import numpy as np\n",
    "import pandas as pd\n",
    "\n",
    "from fingerprints.get_fp import output, input\n",
    "from rdkit import DataStructs\n",
    "from rdkit.Chem import AllChem\n",
    "from rdkit import Chem\n",
    "\n",
    "from sklearn.model_selection import train_test_split\n",
    "from sklearn.ensemble import RandomForestClassifier\n",
    "from sklearn.metrics import classification_report, accuracy_score\n",
    "from sklearn.preprocessing import LabelEncoder\n",
    "from sklearn.multioutput import MultiOutputClassifier\n",
    "from sklearn.model_selection import GridSearchCV\n",
    "\n",
    "import matplotlib as mpl\n",
    "import matplotlib.pyplot as plt\n",
    "from plotnine import *"
   ]
  },
  {
   "cell_type": "code",
   "execution_count": 2,
   "id": "27cd7846",
   "metadata": {},
   "outputs": [],
   "source": [
    "odorants = pd.read_csv('data/odorants.csv')\n",
    "labels = pd.read_csv('data/labels.csv')\n",
    "solubility = pd.read_csv('data/solubility.csv')"
   ]
  },
  {
   "cell_type": "markdown",
   "id": "3ab08f14",
   "metadata": {},
   "source": [
    "# Simple Random Forest (most common class only)"
   ]
  },
  {
   "cell_type": "code",
   "execution_count": 3,
   "id": "b7e382aa",
   "metadata": {},
   "outputs": [],
   "source": [
    "# Sum the label columns to find the most common labels\n",
    "label_sums = labels.iloc[:, -113:].sum().sort_values(ascending=False)\n",
    "most_common_labels = label_sums.index[:1]  # Get the most common label\n",
    "most_common_labels_list = most_common_labels.to_list()\n",
    "most_common_labels_list.append('IsomericSMILES')\n",
    "most_common_labels_list.append('CID')\n",
    "\n",
    "# Filter data for molecules with these labels\n",
    "# filtered_labels = labels[labels[most_common_labels].sum(axis=1) > 0]\n",
    "\n",
    "# Filter data for column of most common labels\n",
    "filtered_labels = labels[most_common_labels_list]\n",
    "\n"
   ]
  },
  {
   "cell_type": "code",
   "execution_count": 4,
   "id": "c7d186e1",
   "metadata": {},
   "outputs": [],
   "source": [
    "bitlength = 1024\n",
    "nmolecules = len(filtered_labels)\n",
    "fingerprints = np.zeros([nmolecules, bitlength]) #1024 values bits 0,1 - 1024-bit ECFP4 fingerprint\n",
    "count = 0\n",
    "\n",
    "for smiles in filtered_labels['IsomericSMILES']:\n",
    "    mol = Chem.MolFromSmiles(smiles) # from SMILES to mol\n",
    "    bits = np.array(AllChem.GetMorganFingerprintAsBitVect(mol,2,nBits=1024)) #from mol we obtain the bit vector for each molecules\n",
    "    fingerprints[count] = np.array(bits) #save each vector as an array\n",
    "    count = count+1\n",
    "\n",
    "target_labels = np.array(filtered_labels.drop([\"IsomericSMILES\", \"CID\"], axis=1))\n",
    "\n"
   ]
  },
  {
   "cell_type": "code",
   "execution_count": 5,
   "id": "c6af8d39",
   "metadata": {},
   "outputs": [
    {
     "name": "stdout",
     "output_type": "stream",
     "text": [
      "(3487, 1024)\n",
      "(3487, 1)\n"
     ]
    }
   ],
   "source": [
    "print(fingerprints.shape)\n",
    "print(target_labels.shape)"
   ]
  },
  {
   "cell_type": "code",
   "execution_count": 6,
   "id": "5e380036",
   "metadata": {},
   "outputs": [],
   "source": [
    "x = fingerprints\n",
    "y = target_labels.ravel()\n",
    "\n",
    "x_train, x_test, y_train, y_test = train_test_split(x, y, test_size=0.2, random_state=42)\n"
   ]
  },
  {
   "cell_type": "code",
   "execution_count": 7,
   "id": "e3327147",
   "metadata": {},
   "outputs": [],
   "source": [
    "forest = RandomForestClassifier(random_state=42)\n",
    "# multi_target_forest = MultiOutputClassifier(forest)"
   ]
  },
  {
   "cell_type": "code",
   "execution_count": 8,
   "id": "0a931213",
   "metadata": {},
   "outputs": [
    {
     "name": "stdout",
     "output_type": "stream",
     "text": [
      "Best number of trees: {'n_estimators': 500}\n",
      "Best cross-validated accuracy: 0.7759045835665977\n",
      "Accuracy: 0.7893982808022922\n",
      "              precision    recall  f1-score   support\n",
      "\n",
      "           0       0.82      0.85      0.83       435\n",
      "           1       0.74      0.68      0.71       263\n",
      "\n",
      "    accuracy                           0.79       698\n",
      "   macro avg       0.78      0.77      0.77       698\n",
      "weighted avg       0.79      0.79      0.79       698\n",
      "\n"
     ]
    }
   ],
   "source": [
    "# Define a range of `n_estimators` to explore\n",
    "param_grid = {\n",
    "    'n_estimators': [10, 50, 100, 200, 300, 400, 500]\n",
    "}\n",
    "\n",
    "# Set up GridSearchCV\n",
    "grid_search = GridSearchCV(estimator=forest, param_grid=param_grid, cv=5, scoring='accuracy')\n",
    "\n",
    "# Fit the model\n",
    "grid_search.fit(x_train, y_train)\n",
    "\n",
    "# Best number of trees\n",
    "print(\"Best number of trees:\", grid_search.best_params_)\n",
    "\n",
    "# Best score\n",
    "print(\"Best cross-validated accuracy:\", grid_search.best_score_)\n",
    "\n",
    "# Using the best model\n",
    "best_clf = grid_search.best_estimator_\n",
    "\n",
    "# Make predictions\n",
    "y_pred = best_clf.predict(x_test)\n",
    "\n",
    "# Note: Adjust the scoring metrics as appropriate for your multi-label context\n",
    "print(\"Accuracy:\", accuracy_score(y_test, y_pred))\n",
    "print(classification_report(y_test, y_pred))\n"
   ]
  },
  {
   "cell_type": "code",
   "execution_count": null,
   "id": "ad3b5d72",
   "metadata": {},
   "outputs": [],
   "source": []
  }
 ],
 "metadata": {
  "kernelspec": {
   "display_name": "Python 3 (ipykernel)",
   "language": "python",
   "name": "python3"
  },
  "language_info": {
   "codemirror_mode": {
    "name": "ipython",
    "version": 3
   },
   "file_extension": ".py",
   "mimetype": "text/x-python",
   "name": "python",
   "nbconvert_exporter": "python",
   "pygments_lexer": "ipython3",
   "version": "3.11.4"
  }
 },
 "nbformat": 4,
 "nbformat_minor": 5
}
