{
 "cells": [
  {
   "cell_type": "code",
   "execution_count": 32,
   "metadata": {},
   "outputs": [],
   "source": [
    "import sys\n",
    "import numpy as np\n",
    "import pandas as pd\n",
    "from fingerprints.get_fp import output, input\n",
    "from sklearn.metrics import accuracy_score, precision_score, recall_score, f1_score\n",
    "from sklearn.metrics import classification_report, ConfusionMatrixDisplay\n",
    "%matplotlib inline\n",
    "\n",
    "from sklearn import tree\n",
    "from sklearn.ensemble import BaggingClassifier, RandomForestClassifier\n",
    "from sklearn.model_selection import train_test_split\n",
    "from sklearn.multioutput import MultiOutputClassifier\n",
    "from sklearn import utils\n"
   ]
  },
  {
   "cell_type": "code",
   "execution_count": 33,
   "metadata": {},
   "outputs": [
    {
     "name": "stdout",
     "output_type": "stream",
     "text": [
      "CID          24234111917\n",
      "cluster_5           1772\n",
      "cluster_4           1377\n",
      "cluster_0           1220\n",
      "cluster_7           1168\n",
      "cluster_1           1111\n",
      "cluster_8           1018\n",
      "cluster_3            896\n",
      "cluster_2            821\n",
      "cluster_6            551\n",
      "dtype: int64 cluster_3    2840\n",
      "cluster_7    1377\n",
      "cluster_0    1161\n",
      "cluster_5     896\n",
      "cluster_8     821\n",
      "cluster_1     767\n",
      "cluster_4     551\n",
      "cluster_6     403\n",
      "cluster_2     399\n",
      "dtype: int64\n"
     ]
    }
   ],
   "source": [
    "labels_kmeans = pd.read_csv('data/labels_kmeans.csv') # .set_index('CID') commented so X and Y later have same indices\n",
    "labels_hrc = pd.read_csv('data/labels_hrc.csv').set_index('CID')\n",
    "\n",
    "kmeans_counts = labels_kmeans.sum().sort_values(ascending=False)\n",
    "# manual_counts = labels_manual.sum().sort_values(ascending=False)\n",
    "hierarchical_counts = labels_hrc.sum().sort_values(ascending=False)\n",
    "\n",
    "print(kmeans_counts, hierarchical_counts)\n",
    "\n",
    "fingerprint = input"
   ]
  },
  {
   "cell_type": "markdown",
   "metadata": {},
   "source": [
    "## kmeans"
   ]
  },
  {
   "cell_type": "code",
   "execution_count": 34,
   "metadata": {},
   "outputs": [
    {
     "data": {
      "text/html": [
       "<div>\n",
       "<style scoped>\n",
       "    .dataframe tbody tr th:only-of-type {\n",
       "        vertical-align: middle;\n",
       "    }\n",
       "\n",
       "    .dataframe tbody tr th {\n",
       "        vertical-align: top;\n",
       "    }\n",
       "\n",
       "    .dataframe thead th {\n",
       "        text-align: right;\n",
       "    }\n",
       "</style>\n",
       "<table border=\"1\" class=\"dataframe\">\n",
       "  <thead>\n",
       "    <tr style=\"text-align: right;\">\n",
       "      <th></th>\n",
       "      <th>cluster_0</th>\n",
       "      <th>cluster_1</th>\n",
       "      <th>cluster_2</th>\n",
       "      <th>cluster_3</th>\n",
       "      <th>cluster_4</th>\n",
       "      <th>cluster_5</th>\n",
       "      <th>cluster_6</th>\n",
       "      <th>cluster_7</th>\n",
       "      <th>cluster_8</th>\n",
       "    </tr>\n",
       "  </thead>\n",
       "  <tbody>\n",
       "    <tr>\n",
       "      <th>0</th>\n",
       "      <td>0</td>\n",
       "      <td>0</td>\n",
       "      <td>0</td>\n",
       "      <td>0</td>\n",
       "      <td>0</td>\n",
       "      <td>1</td>\n",
       "      <td>0</td>\n",
       "      <td>0</td>\n",
       "      <td>0</td>\n",
       "    </tr>\n",
       "    <tr>\n",
       "      <th>1</th>\n",
       "      <td>1</td>\n",
       "      <td>0</td>\n",
       "      <td>1</td>\n",
       "      <td>0</td>\n",
       "      <td>0</td>\n",
       "      <td>0</td>\n",
       "      <td>0</td>\n",
       "      <td>0</td>\n",
       "      <td>1</td>\n",
       "    </tr>\n",
       "    <tr>\n",
       "      <th>2</th>\n",
       "      <td>0</td>\n",
       "      <td>1</td>\n",
       "      <td>0</td>\n",
       "      <td>0</td>\n",
       "      <td>0</td>\n",
       "      <td>1</td>\n",
       "      <td>0</td>\n",
       "      <td>0</td>\n",
       "      <td>0</td>\n",
       "    </tr>\n",
       "    <tr>\n",
       "      <th>3</th>\n",
       "      <td>0</td>\n",
       "      <td>0</td>\n",
       "      <td>1</td>\n",
       "      <td>0</td>\n",
       "      <td>0</td>\n",
       "      <td>1</td>\n",
       "      <td>0</td>\n",
       "      <td>0</td>\n",
       "      <td>1</td>\n",
       "    </tr>\n",
       "    <tr>\n",
       "      <th>4</th>\n",
       "      <td>0</td>\n",
       "      <td>0</td>\n",
       "      <td>1</td>\n",
       "      <td>0</td>\n",
       "      <td>0</td>\n",
       "      <td>0</td>\n",
       "      <td>0</td>\n",
       "      <td>1</td>\n",
       "      <td>0</td>\n",
       "    </tr>\n",
       "    <tr>\n",
       "      <th>...</th>\n",
       "      <td>...</td>\n",
       "      <td>...</td>\n",
       "      <td>...</td>\n",
       "      <td>...</td>\n",
       "      <td>...</td>\n",
       "      <td>...</td>\n",
       "      <td>...</td>\n",
       "      <td>...</td>\n",
       "      <td>...</td>\n",
       "    </tr>\n",
       "    <tr>\n",
       "      <th>3482</th>\n",
       "      <td>0</td>\n",
       "      <td>0</td>\n",
       "      <td>0</td>\n",
       "      <td>1</td>\n",
       "      <td>0</td>\n",
       "      <td>1</td>\n",
       "      <td>0</td>\n",
       "      <td>0</td>\n",
       "      <td>0</td>\n",
       "    </tr>\n",
       "    <tr>\n",
       "      <th>3483</th>\n",
       "      <td>0</td>\n",
       "      <td>1</td>\n",
       "      <td>0</td>\n",
       "      <td>0</td>\n",
       "      <td>0</td>\n",
       "      <td>1</td>\n",
       "      <td>0</td>\n",
       "      <td>0</td>\n",
       "      <td>0</td>\n",
       "    </tr>\n",
       "    <tr>\n",
       "      <th>3484</th>\n",
       "      <td>1</td>\n",
       "      <td>1</td>\n",
       "      <td>0</td>\n",
       "      <td>0</td>\n",
       "      <td>1</td>\n",
       "      <td>1</td>\n",
       "      <td>0</td>\n",
       "      <td>0</td>\n",
       "      <td>1</td>\n",
       "    </tr>\n",
       "    <tr>\n",
       "      <th>3485</th>\n",
       "      <td>1</td>\n",
       "      <td>1</td>\n",
       "      <td>0</td>\n",
       "      <td>1</td>\n",
       "      <td>1</td>\n",
       "      <td>0</td>\n",
       "      <td>0</td>\n",
       "      <td>0</td>\n",
       "      <td>0</td>\n",
       "    </tr>\n",
       "    <tr>\n",
       "      <th>3486</th>\n",
       "      <td>0</td>\n",
       "      <td>0</td>\n",
       "      <td>0</td>\n",
       "      <td>1</td>\n",
       "      <td>1</td>\n",
       "      <td>1</td>\n",
       "      <td>0</td>\n",
       "      <td>0</td>\n",
       "      <td>0</td>\n",
       "    </tr>\n",
       "  </tbody>\n",
       "</table>\n",
       "<p>3487 rows × 9 columns</p>\n",
       "</div>"
      ],
      "text/plain": [
       "      cluster_0  cluster_1  cluster_2  cluster_3  cluster_4  cluster_5  \\\n",
       "0             0          0          0          0          0          1   \n",
       "1             1          0          1          0          0          0   \n",
       "2             0          1          0          0          0          1   \n",
       "3             0          0          1          0          0          1   \n",
       "4             0          0          1          0          0          0   \n",
       "...         ...        ...        ...        ...        ...        ...   \n",
       "3482          0          0          0          1          0          1   \n",
       "3483          0          1          0          0          0          1   \n",
       "3484          1          1          0          0          1          1   \n",
       "3485          1          1          0          1          1          0   \n",
       "3486          0          0          0          1          1          1   \n",
       "\n",
       "      cluster_6  cluster_7  cluster_8  \n",
       "0             0          0          0  \n",
       "1             0          0          1  \n",
       "2             0          0          0  \n",
       "3             0          0          1  \n",
       "4             0          1          0  \n",
       "...         ...        ...        ...  \n",
       "3482          0          0          0  \n",
       "3483          0          0          0  \n",
       "3484          0          0          1  \n",
       "3485          0          0          0  \n",
       "3486          0          0          0  \n",
       "\n",
       "[3487 rows x 9 columns]"
      ]
     },
     "execution_count": 34,
     "metadata": {},
     "output_type": "execute_result"
    }
   ],
   "source": [
    "labels_kmeans = labels_kmeans.drop(labels=\"CID\",axis=1)\n",
    "labels_kmeans"
   ]
  },
  {
   "cell_type": "markdown",
   "metadata": {},
   "source": [
    "# Splitting the data per cluster\n",
    "To split the data, we're going to do the test split for each cluster separately and add it together, then shuffle."
   ]
  },
  {
   "cell_type": "code",
   "execution_count": 35,
   "metadata": {},
   "outputs": [],
   "source": [
    "labels = pd.read_csv('data/labels.csv')\n",
    "labels_ = labels.iloc[:, 2:]\n"
   ]
  },
  {
   "cell_type": "code",
   "execution_count": 36,
   "metadata": {},
   "outputs": [
    {
     "name": "stdout",
     "output_type": "stream",
     "text": [
      "training set is 2942 items long and the test set is 1098 items long\n",
      "553\n"
     ]
    }
   ],
   "source": [
    "y = labels_kmeans\n",
    "X = fingerprint\n",
    "\n",
    "# create lists for the training and test set indices\n",
    "train_indx = set()\n",
    "test_indx = set()\n",
    "\n",
    "# loop over all clusters in y and get the train and test indices\n",
    "# TODO maybe just create the test split and have that be 20% total and taking the rest as the training set??\n",
    "# So check the percentage of values in each cluster and have the test sets be built up in that ratio too? \n",
    "# So having a different test size for different clusters??\n",
    "for cluster in y.columns:\n",
    "    cluster_indx = []\n",
    "    for i in y.index:\n",
    "        if y.loc[i,cluster] == 1:\n",
    "            cluster_indx.append(i)\n",
    "    # create training and test split for the cluster\n",
    "    train_cluster_indx, test_cluster_indx = train_test_split(cluster_indx, test_size = 0.2, random_state = 12345)\n",
    "    # check if the indices are already in the other set\n",
    "    for idx in train_cluster_indx:\n",
    "        if idx in test_indx or idx in test_cluster_indx:\n",
    "            train_cluster_indx.remove(idx)\n",
    "    for idx in test_cluster_indx:\n",
    "        if idx in train_indx or idx in train_cluster_indx:\n",
    "            test_cluster_indx.remove(idx)\n",
    "    # update the training and test indices\n",
    "    train_indx.update(train_cluster_indx)\n",
    "    test_indx.update(test_cluster_indx)\n",
    "\n",
    "# shuffle indices after all cluster indices were added\n",
    "shuff_train_indx = utils.shuffle(list(train_indx))\n",
    "shuff_test_indx = utils.shuffle(list(test_indx))\n",
    "\n",
    "# Get the training and test sets for X and y\n",
    "y_train = y.iloc[shuff_train_indx,]\n",
    "y_test = y.iloc[shuff_test_indx,]\n",
    "X_train = X[shuff_train_indx,]\n",
    "X_test = X[shuff_test_indx,]\n",
    "\n",
    "print(f\"training set is {len(y_train)} items long and the test set is {len(y_test)} items long\")\n",
    "\n",
    "duplicates = train_indx.intersection(test_indx)\n",
    "print(len(duplicates))\n",
    "\n",
    "# The original k-means train_test_split:\n",
    "# X_train, X_test, y_train, y_test = train_test_split(X, y, test_size=0.2, random_state=12345)"
   ]
  },
  {
   "cell_type": "markdown",
   "metadata": {},
   "source": [
    "# Some duplicate indices in the training and test sets, what to do with those?\n",
    "There are 472 indexes that are present in both, should they then just be removed from the  test set? \n",
    "Doing this gives us a test set that's about 16% of the original data and a training set of 84%.\n",
    "Idk how sound this is from a methods point of view, but using a test size of 25% and then substracting the duplicates gives us a final test set of 19%. There should be a way to solve the duplicates though I think?"
   ]
  },
  {
   "cell_type": "code",
   "execution_count": 37,
   "metadata": {},
   "outputs": [
    {
     "data": {
      "text/plain": [
       "array([[0., 1., 0., ..., 0., 0., 0.],\n",
       "       [0., 0., 0., ..., 0., 0., 0.],\n",
       "       [0., 0., 0., ..., 0., 0., 0.],\n",
       "       ...,\n",
       "       [0., 1., 0., ..., 0., 0., 0.],\n",
       "       [0., 0., 0., ..., 0., 0., 0.],\n",
       "       [0., 1., 0., ..., 0., 0., 0.]])"
      ]
     },
     "execution_count": 37,
     "metadata": {},
     "output_type": "execute_result"
    }
   ],
   "source": [
    "y = np.array(labels_kmeans, dtype=np.float64)\n",
    "X = fingerprint\n",
    "X"
   ]
  },
  {
   "cell_type": "code",
   "execution_count": 38,
   "metadata": {},
   "outputs": [
    {
     "name": "stdout",
     "output_type": "stream",
     "text": [
      "training set is 2789 items long and the test set is 698 items long\n"
     ]
    }
   ],
   "source": [
    "from skmultilearn.model_selection import iterative_train_test_split\n",
    "\n",
    "\n",
    "X_train, y_train, X_test, y_test = iterative_train_test_split(X, y, test_size = 0.2)\n",
    "X_train, X_test, y_train, y_test = train_test_split(X, y, test_size=0.2, random_state=12345)\n",
    "\n",
    "print(f\"training set is {len(y_train)} items long and the test set is {len(y_test)} items long\")\n"
   ]
  },
  {
   "cell_type": "code",
   "execution_count": 39,
   "metadata": {},
   "outputs": [
    {
     "name": "stdout",
     "output_type": "stream",
     "text": [
      "Accuracy: 0.15616045845272206 \n",
      "\n",
      "              precision    recall  f1-score   support\n",
      "\n",
      "           0       0.73      0.67      0.70       245\n",
      "           1       0.73      0.46      0.57       228\n",
      "           2       0.44      0.21      0.28       148\n",
      "           3       0.65      0.31      0.42       177\n",
      "           4       0.78      0.56      0.65       292\n",
      "           5       0.66      0.63      0.64       343\n",
      "           6       0.60      0.25      0.35       106\n",
      "           7       0.69      0.47      0.56       231\n",
      "           8       0.69      0.35      0.46       214\n",
      "\n",
      "   micro avg       0.69      0.47      0.56      1984\n",
      "   macro avg       0.67      0.43      0.52      1984\n",
      "weighted avg       0.68      0.47      0.55      1984\n",
      " samples avg       0.66      0.52      0.54      1984\n",
      "\n"
     ]
    },
    {
     "name": "stderr",
     "output_type": "stream",
     "text": [
      "c:\\Users\\Ikhlasse\\anaconda3\\envs\\SML\\Lib\\site-packages\\sklearn\\metrics\\_classification.py:1509: UndefinedMetricWarning: Precision is ill-defined and being set to 0.0 in samples with no predicted labels. Use `zero_division` parameter to control this behavior.\n",
      "  _warn_prf(average, modifier, f\"{metric.capitalize()} is\", len(result))\n"
     ]
    }
   ],
   "source": [
    "m_rf = RandomForestClassifier(n_estimators = 10, max_features = 3).fit(X_train, y_train)\n",
    "# multi_target_rf = MultiOutputClassifier(m_rf).fit(X_train, y_train)\n",
    "y_pred = m_rf.predict(X_test)\n",
    "\n",
    "print('Accuracy:', accuracy_score(y_test, y_pred), \"\\n\")\n",
    "print(classification_report(y_test, y_pred))"
   ]
  },
  {
   "cell_type": "code",
   "execution_count": null,
   "metadata": {},
   "outputs": [],
   "source": []
  },
  {
   "cell_type": "code",
   "execution_count": 40,
   "metadata": {},
   "outputs": [
    {
     "data": {
      "text/plain": [
       "<sklearn.metrics._plot.confusion_matrix.ConfusionMatrixDisplay at 0x131e7cbea50>"
      ]
     },
     "execution_count": 40,
     "metadata": {},
     "output_type": "execute_result"
    },
    {
     "data": {
      "image/png": "[encoded data removed]",
      "text/plain": [
       "<Figure size 640x480 with 2 Axes>"
      ]
     },
     "metadata": {},
     "output_type": "display_data"
    }
   ],
   "source": [
    "ConfusionMatrixDisplay.from_predictions(y_test.argmax(axis=1), y_pred.argmax(axis=1))"
   ]
  },
  {
   "cell_type": "markdown",
   "metadata": {},
   "source": [
    "## hyperparameter optimisation"
   ]
  },
  {
   "cell_type": "code",
   "execution_count": 41,
   "metadata": {},
   "outputs": [],
   "source": [
    "# from sklearn.model_selection import StratifiedKFold\n",
    "\n",
    "# def kfold_cv(X, y, k, H, cv_fun, random_state):\n",
    "#     \"\"\"\n",
    "#     Do stratified k-fold cross-validation with a dataset, to check how a model behaves as a function\n",
    "#     of the values in H (eg. a hyperparameter such as tree depth, or polynomial degree).\n",
    "\n",
    "#     :param X: feature matrix.\n",
    "#     :param y: response column.\n",
    "#     :param k: number of folds.\n",
    "#     :param H: values of the hyperparameter to cross-validate.\n",
    "#     :param cv_fun: function of the form (X_train, y_train, X_valid, y_valid, h) to evaluate the model in one split,\n",
    "#         as a function of h. It must return a dictionary with metric score values.\n",
    "#     :param random_state: controls the pseudo random number generation for splitting the data.\n",
    "#     :return: a Pandas dataframe with metric scores along values in H.\n",
    "#     \"\"\"\n",
    "#     kf = StratifiedKFold(n_splits = k, shuffle = True, random_state = random_state)\n",
    "#     scores = []  # to store global results\n",
    "\n",
    "#     # for each value h in H, do CV\n",
    "#     for h in H:\n",
    "        \n",
    "#         # for each fold 1..K\n",
    "#         kk = 0\n",
    "#         for train_index, valid_index in kf.split(X, y):\n",
    "#             kk = kk+1\n",
    "#             # partition the data in training and validation\n",
    "#             X_train, X_valid = X.iloc[train_index], X.iloc[valid_index]\n",
    "#             y_train, y_valid = y.iloc[train_index], y.iloc[valid_index]\n",
    "\n",
    "#             # call cv_fun to train the model and compute performance\n",
    "#             fold_scores = {'_h': h, '_fold': kk}\n",
    "#             fold_scores.update(cv_fun(X_train, y_train, X_valid, y_valid, h))\n",
    "#             scores.append(fold_scores)\n",
    "            \n",
    "#     return pd.DataFrame(scores)"
   ]
  },
  {
   "cell_type": "code",
   "execution_count": 42,
   "metadata": {},
   "outputs": [],
   "source": [
    "# functions derived from ...\n",
    "from sklearn.model_selection import cross_val_score\n",
    "from bayes_opt import BayesianOptimization\n",
    "\n",
    "# inlcude max leaf nodes?\n",
    "def rfc_cv(n_estimators, max_leaf_nodes, max_depth, min_samples_split, max_features,  x_data, y_targets):\n",
    "    \"\"\"Random Forest cross validation.\n",
    "\n",
    "    This function will instantiate a random forest classifier with parameters\n",
    "    n_estimators, min_samples_split, and max_depth. Combined with data and\n",
    "    targets this will in turn be used to perform cross validation. The result\n",
    "    of cross validation is returned.\n",
    "\n",
    "    Our goal is to find combinations of n_estimators, min_samples_split, and\n",
    "    max_depth that minimizes the log loss.\n",
    "    \"\"\"\n",
    "    estimator = RandomForestClassifier(\n",
    "        n_estimators=n_estimators,\n",
    "        max_leaf_nodes=max_leaf_nodes,\n",
    "        max_depth=max_depth,\n",
    "        min_samples_split=min_samples_split,\n",
    "        max_features=max_features,\n",
    "        random_state=2\n",
    "    )\n",
    "\n",
    "    # estimator = MultiOutputClassifier(estimator)\n",
    "    \n",
    "    cval = cross_val_score(estimator, x_data, y_targets,\n",
    "                           scoring='neg_log_loss', cv=4)\n",
    "    return cval.mean()"
   ]
  },
  {
   "cell_type": "code",
   "execution_count": 43,
   "metadata": {},
   "outputs": [],
   "source": [
    "\n",
    "def optimize_rfc(x_data, y_targets):\n",
    "    \"\"\"Apply Bayesian Optimization to Random Forest parameters.\"\"\"\n",
    "    def rfc_crossval(n_estimators, max_leaf_nodes, max_depth, min_samples_split, max_features):\n",
    "        \"\"\"Wrapper of RandomForest cross validation.\n",
    "        \"\"\"\n",
    "        return rfc_cv(\n",
    "            n_estimators=int(n_estimators),\n",
    "            max_leaf_nodes = int(max_leaf_nodes),\n",
    "            max_depth=int(max_depth),\n",
    "            min_samples_split=int(min_samples_split),\n",
    "            max_features=int(max_features),\n",
    "            x_data=x_data,\n",
    "            y_targets=y_targets,\n",
    "        )\n",
    "\n",
    "    optimizer = BayesianOptimization(\n",
    "        f=rfc_crossval,\n",
    "        pbounds={\n",
    "            \"n_estimators\": (10, 750),\n",
    "            \"max_leaf_nodes\" : (20, 1000),\n",
    "            \"max_depth\": (20, 100),\n",
    "            \"min_samples_split\": (2, 25),\n",
    "            \"max_features\": (3, 500),\n",
    "        },\n",
    "        random_state=1234,\n",
    "        verbose=2\n",
    "    )\n",
    "    optimizer.maximize(n_iter=10)\n",
    "\n",
    "    print(\"Final result:\", optimizer.max)\n",
    "    return optimizer.max[\"params\"]"
   ]
  },
  {
   "cell_type": "code",
   "execution_count": 44,
   "metadata": {},
   "outputs": [
    {
     "name": "stdout",
     "output_type": "stream",
     "text": [
      "|   iter    |  target   | max_depth | max_fe... | max_le... | min_sa... | n_esti... |\n",
      "-------------------------------------------------------------------------------------\n"
     ]
    },
    {
     "name": "stderr",
     "output_type": "stream",
     "text": [
      "c:\\Users\\Ikhlasse\\anaconda3\\envs\\SML\\Lib\\site-packages\\sklearn\\metrics\\_classification.py:2981: UserWarning: The y_pred values do not sum to one. Starting from 1.5 thiswill result in an error.\n",
      "  warnings.warn(\n",
      "c:\\Users\\Ikhlasse\\anaconda3\\envs\\SML\\Lib\\site-packages\\sklearn\\metrics\\_classification.py:2981: UserWarning: The y_pred values do not sum to one. Starting from 1.5 thiswill result in an error.\n",
      "  warnings.warn(\n",
      "c:\\Users\\Ikhlasse\\anaconda3\\envs\\SML\\Lib\\site-packages\\sklearn\\metrics\\_classification.py:2981: UserWarning: The y_pred values do not sum to one. Starting from 1.5 thiswill result in an error.\n",
      "  warnings.warn(\n",
      "c:\\Users\\Ikhlasse\\anaconda3\\envs\\SML\\Lib\\site-packages\\sklearn\\metrics\\_classification.py:2981: UserWarning: The y_pred values do not sum to one. Starting from 1.5 thiswill result in an error.\n",
      "  warnings.warn(\n"
     ]
    },
    {
     "name": "stdout",
     "output_type": "stream",
     "text": [
      "| \u001b[0m1        \u001b[0m | \u001b[0m-5.376   \u001b[0m | \u001b[0m35.32    \u001b[0m | \u001b[0m312.2    \u001b[0m | \u001b[0m449.0    \u001b[0m | \u001b[0m20.06    \u001b[0m | \u001b[0m587.2    \u001b[0m |\n"
     ]
    },
    {
     "name": "stderr",
     "output_type": "stream",
     "text": [
      "c:\\Users\\Ikhlasse\\anaconda3\\envs\\SML\\Lib\\site-packages\\sklearn\\metrics\\_classification.py:2981: UserWarning: The y_pred values do not sum to one. Starting from 1.5 thiswill result in an error.\n",
      "  warnings.warn(\n",
      "c:\\Users\\Ikhlasse\\anaconda3\\envs\\SML\\Lib\\site-packages\\sklearn\\metrics\\_classification.py:2981: UserWarning: The y_pred values do not sum to one. Starting from 1.5 thiswill result in an error.\n",
      "  warnings.warn(\n",
      "c:\\Users\\Ikhlasse\\anaconda3\\envs\\SML\\Lib\\site-packages\\sklearn\\metrics\\_classification.py:2981: UserWarning: The y_pred values do not sum to one. Starting from 1.5 thiswill result in an error.\n",
      "  warnings.warn(\n",
      "c:\\Users\\Ikhlasse\\anaconda3\\envs\\SML\\Lib\\site-packages\\sklearn\\metrics\\_classification.py:2981: UserWarning: The y_pred values do not sum to one. Starting from 1.5 thiswill result in an error.\n",
      "  warnings.warn(\n"
     ]
    },
    {
     "name": "stdout",
     "output_type": "stream",
     "text": [
      "| \u001b[0m2        \u001b[0m | \u001b[0m-5.387   \u001b[0m | \u001b[0m41.81    \u001b[0m | \u001b[0m140.4    \u001b[0m | \u001b[0m805.8    \u001b[0m | \u001b[0m24.04    \u001b[0m | \u001b[0m658.2    \u001b[0m |\n"
     ]
    },
    {
     "name": "stderr",
     "output_type": "stream",
     "text": [
      "c:\\Users\\Ikhlasse\\anaconda3\\envs\\SML\\Lib\\site-packages\\sklearn\\metrics\\_classification.py:2981: UserWarning: The y_pred values do not sum to one. Starting from 1.5 thiswill result in an error.\n",
      "  warnings.warn(\n",
      "c:\\Users\\Ikhlasse\\anaconda3\\envs\\SML\\Lib\\site-packages\\sklearn\\metrics\\_classification.py:2981: UserWarning: The y_pred values do not sum to one. Starting from 1.5 thiswill result in an error.\n",
      "  warnings.warn(\n",
      "c:\\Users\\Ikhlasse\\anaconda3\\envs\\SML\\Lib\\site-packages\\sklearn\\metrics\\_classification.py:2981: UserWarning: The y_pred values do not sum to one. Starting from 1.5 thiswill result in an error.\n",
      "  warnings.warn(\n",
      "c:\\Users\\Ikhlasse\\anaconda3\\envs\\SML\\Lib\\site-packages\\sklearn\\metrics\\_classification.py:2981: UserWarning: The y_pred values do not sum to one. Starting from 1.5 thiswill result in an error.\n",
      "  warnings.warn(\n"
     ]
    },
    {
     "name": "stdout",
     "output_type": "stream",
     "text": [
      "| \u001b[95m3        \u001b[0m | \u001b[95m-5.376   \u001b[0m | \u001b[95m48.63    \u001b[0m | \u001b[95m252.0    \u001b[0m | \u001b[95m689.8    \u001b[0m | \u001b[95m18.39    \u001b[0m | \u001b[95m284.0    \u001b[0m |\n"
     ]
    },
    {
     "name": "stderr",
     "output_type": "stream",
     "text": [
      "c:\\Users\\Ikhlasse\\anaconda3\\envs\\SML\\Lib\\site-packages\\sklearn\\metrics\\_classification.py:2981: UserWarning: The y_pred values do not sum to one. Starting from 1.5 thiswill result in an error.\n",
      "  warnings.warn(\n",
      "c:\\Users\\Ikhlasse\\anaconda3\\envs\\SML\\Lib\\site-packages\\sklearn\\metrics\\_classification.py:2981: UserWarning: The y_pred values do not sum to one. Starting from 1.5 thiswill result in an error.\n",
      "  warnings.warn(\n",
      "c:\\Users\\Ikhlasse\\anaconda3\\envs\\SML\\Lib\\site-packages\\sklearn\\metrics\\_classification.py:2981: UserWarning: The y_pred values do not sum to one. Starting from 1.5 thiswill result in an error.\n",
      "  warnings.warn(\n",
      "c:\\Users\\Ikhlasse\\anaconda3\\envs\\SML\\Lib\\site-packages\\sklearn\\metrics\\_classification.py:2981: UserWarning: The y_pred values do not sum to one. Starting from 1.5 thiswill result in an error.\n",
      "  warnings.warn(\n"
     ]
    },
    {
     "name": "stdout",
     "output_type": "stream",
     "text": [
      "| \u001b[0m4        \u001b[0m | \u001b[0m-5.523   \u001b[0m | \u001b[0m64.9     \u001b[0m | \u001b[0m253.0    \u001b[0m | \u001b[0m33.49    \u001b[0m | \u001b[0m19.78    \u001b[0m | \u001b[0m663.2    \u001b[0m |\n"
     ]
    },
    {
     "name": "stderr",
     "output_type": "stream",
     "text": [
      "c:\\Users\\Ikhlasse\\anaconda3\\envs\\SML\\Lib\\site-packages\\sklearn\\metrics\\_classification.py:2981: UserWarning: The y_pred values do not sum to one. Starting from 1.5 thiswill result in an error.\n",
      "  warnings.warn(\n",
      "c:\\Users\\Ikhlasse\\anaconda3\\envs\\SML\\Lib\\site-packages\\sklearn\\metrics\\_classification.py:2981: UserWarning: The y_pred values do not sum to one. Starting from 1.5 thiswill result in an error.\n",
      "  warnings.warn(\n",
      "c:\\Users\\Ikhlasse\\anaconda3\\envs\\SML\\Lib\\site-packages\\sklearn\\metrics\\_classification.py:2981: UserWarning: The y_pred values do not sum to one. Starting from 1.5 thiswill result in an error.\n",
      "  warnings.warn(\n",
      "c:\\Users\\Ikhlasse\\anaconda3\\envs\\SML\\Lib\\site-packages\\sklearn\\metrics\\_classification.py:2981: UserWarning: The y_pred values do not sum to one. Starting from 1.5 thiswill result in an error.\n",
      "  warnings.warn(\n"
     ]
    },
    {
     "name": "stdout",
     "output_type": "stream",
     "text": [
      "| \u001b[0m5        \u001b[0m | \u001b[0m-5.422   \u001b[0m | \u001b[0m49.19    \u001b[0m | \u001b[0m308.9    \u001b[0m | \u001b[0m93.87    \u001b[0m | \u001b[0m10.48    \u001b[0m | \u001b[0m700.5    \u001b[0m |\n"
     ]
    },
    {
     "name": "stderr",
     "output_type": "stream",
     "text": [
      "c:\\Users\\Ikhlasse\\anaconda3\\envs\\SML\\Lib\\site-packages\\sklearn\\metrics\\_classification.py:2981: UserWarning: The y_pred values do not sum to one. Starting from 1.5 thiswill result in an error.\n",
      "  warnings.warn(\n",
      "c:\\Users\\Ikhlasse\\anaconda3\\envs\\SML\\Lib\\site-packages\\sklearn\\metrics\\_classification.py:2981: UserWarning: The y_pred values do not sum to one. Starting from 1.5 thiswill result in an error.\n",
      "  warnings.warn(\n",
      "c:\\Users\\Ikhlasse\\anaconda3\\envs\\SML\\Lib\\site-packages\\sklearn\\metrics\\_classification.py:2981: UserWarning: The y_pred values do not sum to one. Starting from 1.5 thiswill result in an error.\n",
      "  warnings.warn(\n",
      "c:\\Users\\Ikhlasse\\anaconda3\\envs\\SML\\Lib\\site-packages\\sklearn\\metrics\\_classification.py:2981: UserWarning: The y_pred values do not sum to one. Starting from 1.5 thiswill result in an error.\n",
      "  warnings.warn(\n"
     ]
    },
    {
     "name": "stdout",
     "output_type": "stream",
     "text": [
      "| \u001b[95m6        \u001b[0m | \u001b[95m-5.376   \u001b[0m | \u001b[95m87.77    \u001b[0m | \u001b[95m225.5    \u001b[0m | \u001b[95m699.8    \u001b[0m | \u001b[95m16.72    \u001b[0m | \u001b[95m256.6    \u001b[0m |\n"
     ]
    },
    {
     "name": "stderr",
     "output_type": "stream",
     "text": [
      "c:\\Users\\Ikhlasse\\anaconda3\\envs\\SML\\Lib\\site-packages\\sklearn\\metrics\\_classification.py:2981: UserWarning: The y_pred values do not sum to one. Starting from 1.5 thiswill result in an error.\n",
      "  warnings.warn(\n",
      "c:\\Users\\Ikhlasse\\anaconda3\\envs\\SML\\Lib\\site-packages\\sklearn\\metrics\\_classification.py:2981: UserWarning: The y_pred values do not sum to one. Starting from 1.5 thiswill result in an error.\n",
      "  warnings.warn(\n",
      "c:\\Users\\Ikhlasse\\anaconda3\\envs\\SML\\Lib\\site-packages\\sklearn\\metrics\\_classification.py:2981: UserWarning: The y_pred values do not sum to one. Starting from 1.5 thiswill result in an error.\n",
      "  warnings.warn(\n",
      "c:\\Users\\Ikhlasse\\anaconda3\\envs\\SML\\Lib\\site-packages\\sklearn\\metrics\\_classification.py:2981: UserWarning: The y_pred values do not sum to one. Starting from 1.5 thiswill result in an error.\n",
      "  warnings.warn(\n"
     ]
    },
    {
     "name": "stdout",
     "output_type": "stream",
     "text": [
      "| \u001b[0m7        \u001b[0m | \u001b[0m-5.41    \u001b[0m | \u001b[0m55.8     \u001b[0m | \u001b[0m230.1    \u001b[0m | \u001b[0m599.8    \u001b[0m | \u001b[0m9.046    \u001b[0m | \u001b[0m219.5    \u001b[0m |\n"
     ]
    },
    {
     "name": "stderr",
     "output_type": "stream",
     "text": [
      "c:\\Users\\Ikhlasse\\anaconda3\\envs\\SML\\Lib\\site-packages\\sklearn\\metrics\\_classification.py:2981: UserWarning: The y_pred values do not sum to one. Starting from 1.5 thiswill result in an error.\n",
      "  warnings.warn(\n",
      "c:\\Users\\Ikhlasse\\anaconda3\\envs\\SML\\Lib\\site-packages\\sklearn\\metrics\\_classification.py:2981: UserWarning: The y_pred values do not sum to one. Starting from 1.5 thiswill result in an error.\n",
      "  warnings.warn(\n",
      "c:\\Users\\Ikhlasse\\anaconda3\\envs\\SML\\Lib\\site-packages\\sklearn\\metrics\\_classification.py:2981: UserWarning: The y_pred values do not sum to one. Starting from 1.5 thiswill result in an error.\n",
      "  warnings.warn(\n",
      "c:\\Users\\Ikhlasse\\anaconda3\\envs\\SML\\Lib\\site-packages\\sklearn\\metrics\\_classification.py:2981: UserWarning: The y_pred values do not sum to one. Starting from 1.5 thiswill result in an error.\n",
      "  warnings.warn(\n"
     ]
    },
    {
     "name": "stdout",
     "output_type": "stream",
     "text": [
      "| \u001b[0m8        \u001b[0m | \u001b[0m-5.377   \u001b[0m | \u001b[0m87.85    \u001b[0m | \u001b[0m237.3    \u001b[0m | \u001b[0m695.6    \u001b[0m | \u001b[0m12.87    \u001b[0m | \u001b[0m267.5    \u001b[0m |\n"
     ]
    },
    {
     "name": "stderr",
     "output_type": "stream",
     "text": [
      "c:\\Users\\Ikhlasse\\anaconda3\\envs\\SML\\Lib\\site-packages\\sklearn\\metrics\\_classification.py:2981: UserWarning: The y_pred values do not sum to one. Starting from 1.5 thiswill result in an error.\n",
      "  warnings.warn(\n",
      "c:\\Users\\Ikhlasse\\anaconda3\\envs\\SML\\Lib\\site-packages\\sklearn\\metrics\\_classification.py:2981: UserWarning: The y_pred values do not sum to one. Starting from 1.5 thiswill result in an error.\n",
      "  warnings.warn(\n",
      "c:\\Users\\Ikhlasse\\anaconda3\\envs\\SML\\Lib\\site-packages\\sklearn\\metrics\\_classification.py:2981: UserWarning: The y_pred values do not sum to one. Starting from 1.5 thiswill result in an error.\n",
      "  warnings.warn(\n",
      "c:\\Users\\Ikhlasse\\anaconda3\\envs\\SML\\Lib\\site-packages\\sklearn\\metrics\\_classification.py:2981: UserWarning: The y_pred values do not sum to one. Starting from 1.5 thiswill result in an error.\n",
      "  warnings.warn(\n"
     ]
    },
    {
     "name": "stdout",
     "output_type": "stream",
     "text": [
      "| \u001b[95m9        \u001b[0m | \u001b[95m-5.376   \u001b[0m | \u001b[95m20.85    \u001b[0m | \u001b[95m241.1    \u001b[0m | \u001b[95m824.4    \u001b[0m | \u001b[95m17.28    \u001b[0m | \u001b[95m292.1    \u001b[0m |\n"
     ]
    },
    {
     "name": "stderr",
     "output_type": "stream",
     "text": [
      "c:\\Users\\Ikhlasse\\anaconda3\\envs\\SML\\Lib\\site-packages\\sklearn\\metrics\\_classification.py:2981: UserWarning: The y_pred values do not sum to one. Starting from 1.5 thiswill result in an error.\n",
      "  warnings.warn(\n",
      "c:\\Users\\Ikhlasse\\anaconda3\\envs\\SML\\Lib\\site-packages\\sklearn\\metrics\\_classification.py:2981: UserWarning: The y_pred values do not sum to one. Starting from 1.5 thiswill result in an error.\n",
      "  warnings.warn(\n",
      "c:\\Users\\Ikhlasse\\anaconda3\\envs\\SML\\Lib\\site-packages\\sklearn\\metrics\\_classification.py:2981: UserWarning: The y_pred values do not sum to one. Starting from 1.5 thiswill result in an error.\n",
      "  warnings.warn(\n",
      "c:\\Users\\Ikhlasse\\anaconda3\\envs\\SML\\Lib\\site-packages\\sklearn\\metrics\\_classification.py:2981: UserWarning: The y_pred values do not sum to one. Starting from 1.5 thiswill result in an error.\n",
      "  warnings.warn(\n"
     ]
    },
    {
     "name": "stdout",
     "output_type": "stream",
     "text": [
      "| \u001b[0m10       \u001b[0m | \u001b[0m-5.388   \u001b[0m | \u001b[0m29.3     \u001b[0m | \u001b[0m120.6    \u001b[0m | \u001b[0m766.2    \u001b[0m | \u001b[0m22.7     \u001b[0m | \u001b[0m354.3    \u001b[0m |\n"
     ]
    },
    {
     "name": "stderr",
     "output_type": "stream",
     "text": [
      "c:\\Users\\Ikhlasse\\anaconda3\\envs\\SML\\Lib\\site-packages\\sklearn\\metrics\\_classification.py:2981: UserWarning: The y_pred values do not sum to one. Starting from 1.5 thiswill result in an error.\n",
      "  warnings.warn(\n",
      "c:\\Users\\Ikhlasse\\anaconda3\\envs\\SML\\Lib\\site-packages\\sklearn\\metrics\\_classification.py:2981: UserWarning: The y_pred values do not sum to one. Starting from 1.5 thiswill result in an error.\n",
      "  warnings.warn(\n",
      "c:\\Users\\Ikhlasse\\anaconda3\\envs\\SML\\Lib\\site-packages\\sklearn\\metrics\\_classification.py:2981: UserWarning: The y_pred values do not sum to one. Starting from 1.5 thiswill result in an error.\n",
      "  warnings.warn(\n",
      "c:\\Users\\Ikhlasse\\anaconda3\\envs\\SML\\Lib\\site-packages\\sklearn\\metrics\\_classification.py:2981: UserWarning: The y_pred values do not sum to one. Starting from 1.5 thiswill result in an error.\n",
      "  warnings.warn(\n"
     ]
    },
    {
     "name": "stdout",
     "output_type": "stream",
     "text": [
      "| \u001b[0m11       \u001b[0m | \u001b[0m-5.381   \u001b[0m | \u001b[0m63.41    \u001b[0m | \u001b[0m325.7    \u001b[0m | \u001b[0m796.2    \u001b[0m | \u001b[0m13.04    \u001b[0m | \u001b[0m164.3    \u001b[0m |\n"
     ]
    },
    {
     "name": "stderr",
     "output_type": "stream",
     "text": [
      "c:\\Users\\Ikhlasse\\anaconda3\\envs\\SML\\Lib\\site-packages\\sklearn\\metrics\\_classification.py:2981: UserWarning: The y_pred values do not sum to one. Starting from 1.5 thiswill result in an error.\n",
      "  warnings.warn(\n",
      "c:\\Users\\Ikhlasse\\anaconda3\\envs\\SML\\Lib\\site-packages\\sklearn\\metrics\\_classification.py:2981: UserWarning: The y_pred values do not sum to one. Starting from 1.5 thiswill result in an error.\n",
      "  warnings.warn(\n",
      "c:\\Users\\Ikhlasse\\anaconda3\\envs\\SML\\Lib\\site-packages\\sklearn\\metrics\\_classification.py:2981: UserWarning: The y_pred values do not sum to one. Starting from 1.5 thiswill result in an error.\n",
      "  warnings.warn(\n",
      "c:\\Users\\Ikhlasse\\anaconda3\\envs\\SML\\Lib\\site-packages\\sklearn\\metrics\\_classification.py:2981: UserWarning: The y_pred values do not sum to one. Starting from 1.5 thiswill result in an error.\n",
      "  warnings.warn(\n"
     ]
    },
    {
     "name": "stdout",
     "output_type": "stream",
     "text": [
      "| \u001b[0m12       \u001b[0m | \u001b[0m-5.383   \u001b[0m | \u001b[0m85.87    \u001b[0m | \u001b[0m164.4    \u001b[0m | \u001b[0m835.9    \u001b[0m | \u001b[0m21.7     \u001b[0m | \u001b[0m174.3    \u001b[0m |\n"
     ]
    },
    {
     "name": "stderr",
     "output_type": "stream",
     "text": [
      "c:\\Users\\Ikhlasse\\anaconda3\\envs\\SML\\Lib\\site-packages\\sklearn\\metrics\\_classification.py:2981: UserWarning: The y_pred values do not sum to one. Starting from 1.5 thiswill result in an error.\n",
      "  warnings.warn(\n",
      "c:\\Users\\Ikhlasse\\anaconda3\\envs\\SML\\Lib\\site-packages\\sklearn\\metrics\\_classification.py:2981: UserWarning: The y_pred values do not sum to one. Starting from 1.5 thiswill result in an error.\n",
      "  warnings.warn(\n",
      "c:\\Users\\Ikhlasse\\anaconda3\\envs\\SML\\Lib\\site-packages\\sklearn\\metrics\\_classification.py:2981: UserWarning: The y_pred values do not sum to one. Starting from 1.5 thiswill result in an error.\n",
      "  warnings.warn(\n",
      "c:\\Users\\Ikhlasse\\anaconda3\\envs\\SML\\Lib\\site-packages\\sklearn\\metrics\\_classification.py:2981: UserWarning: The y_pred values do not sum to one. Starting from 1.5 thiswill result in an error.\n",
      "  warnings.warn(\n"
     ]
    },
    {
     "name": "stdout",
     "output_type": "stream",
     "text": [
      "| \u001b[95m13       \u001b[0m | \u001b[95m-5.373   \u001b[0m | \u001b[95m20.83    \u001b[0m | \u001b[95m372.2    \u001b[0m | \u001b[95m291.3    \u001b[0m | \u001b[95m10.12    \u001b[0m | \u001b[95m695.7    \u001b[0m |\n"
     ]
    },
    {
     "name": "stderr",
     "output_type": "stream",
     "text": [
      "c:\\Users\\Ikhlasse\\anaconda3\\envs\\SML\\Lib\\site-packages\\sklearn\\metrics\\_classification.py:2981: UserWarning: The y_pred values do not sum to one. Starting from 1.5 thiswill result in an error.\n",
      "  warnings.warn(\n",
      "c:\\Users\\Ikhlasse\\anaconda3\\envs\\SML\\Lib\\site-packages\\sklearn\\metrics\\_classification.py:2981: UserWarning: The y_pred values do not sum to one. Starting from 1.5 thiswill result in an error.\n",
      "  warnings.warn(\n",
      "c:\\Users\\Ikhlasse\\anaconda3\\envs\\SML\\Lib\\site-packages\\sklearn\\metrics\\_classification.py:2981: UserWarning: The y_pred values do not sum to one. Starting from 1.5 thiswill result in an error.\n",
      "  warnings.warn(\n",
      "c:\\Users\\Ikhlasse\\anaconda3\\envs\\SML\\Lib\\site-packages\\sklearn\\metrics\\_classification.py:2981: UserWarning: The y_pred values do not sum to one. Starting from 1.5 thiswill result in an error.\n",
      "  warnings.warn(\n"
     ]
    },
    {
     "name": "stdout",
     "output_type": "stream",
     "text": [
      "| \u001b[0m14       \u001b[0m | \u001b[0m-5.382   \u001b[0m | \u001b[0m93.85    \u001b[0m | \u001b[0m279.3    \u001b[0m | \u001b[0m393.2    \u001b[0m | \u001b[0m4.3      \u001b[0m | \u001b[0m733.7    \u001b[0m |\n"
     ]
    },
    {
     "name": "stderr",
     "output_type": "stream",
     "text": [
      "c:\\Users\\Ikhlasse\\anaconda3\\envs\\SML\\Lib\\site-packages\\sklearn\\metrics\\_classification.py:2981: UserWarning: The y_pred values do not sum to one. Starting from 1.5 thiswill result in an error.\n",
      "  warnings.warn(\n",
      "c:\\Users\\Ikhlasse\\anaconda3\\envs\\SML\\Lib\\site-packages\\sklearn\\metrics\\_classification.py:2981: UserWarning: The y_pred values do not sum to one. Starting from 1.5 thiswill result in an error.\n",
      "  warnings.warn(\n",
      "c:\\Users\\Ikhlasse\\anaconda3\\envs\\SML\\Lib\\site-packages\\sklearn\\metrics\\_classification.py:2981: UserWarning: The y_pred values do not sum to one. Starting from 1.5 thiswill result in an error.\n",
      "  warnings.warn(\n"
     ]
    },
    {
     "name": "stdout",
     "output_type": "stream",
     "text": [
      "| \u001b[0m15       \u001b[0m | \u001b[0m-5.379   \u001b[0m | \u001b[0m26.88    \u001b[0m | \u001b[0m474.6    \u001b[0m | \u001b[0m392.2    \u001b[0m | \u001b[0m20.45    \u001b[0m | \u001b[0m618.7    \u001b[0m |\n",
      "=====================================================================================\n",
      "Final result: {'target': -5.373252355826898, 'params': {'max_depth': 20.830465185642886, 'max_features': 372.21412184899043, 'max_leaf_nodes': 291.27933990238284, 'min_samples_split': 10.123840335117674, 'n_estimators': 695.6742844266797}}\n"
     ]
    },
    {
     "name": "stderr",
     "output_type": "stream",
     "text": [
      "c:\\Users\\Ikhlasse\\anaconda3\\envs\\SML\\Lib\\site-packages\\sklearn\\metrics\\_classification.py:2981: UserWarning: The y_pred values do not sum to one. Starting from 1.5 thiswill result in an error.\n",
      "  warnings.warn(\n"
     ]
    }
   ],
   "source": [
    "best_params = optimize_rfc(X_train, y_train)\n",
    "# best_params = {'max_depth': 50.21255252823216, 'min_samples_split': 18.30045074432126, 'n_estimators': 232.79840536578715} for multiouptclassiefier\n",
    "# best_params = {'max_depth': 59.500425867980304, 'max_leaf_nodes': 719.6458994100777, 'min_samples_split': 8.364588055218132, 'n_estimators': 449.55958902588674}\n",
    "# best_params = {'max_depth': 96.65114829469641, 'max_leaf_nodes': 878.4139820472528, 'min_samples_split': 10.229797209030933, 'n_estimators': 380.73639288735944}\n",
    "# best_params = {'max_depth': 20.830465185642886, 'max_features': 372.21412184899043, 'max_leaf_nodes': 291.27933990238284, 'min_samples_split': 10.123840335117674, 'n_estimators': 695.6742844266797}\n",
    "# best_params = \n",
    "# best_params =\n",
    "\n"
   ]
  },
  {
   "cell_type": "code",
   "execution_count": 45,
   "metadata": {},
   "outputs": [
    {
     "name": "stdout",
     "output_type": "stream",
     "text": [
      "Accuracy: 0.19627507163323782 \n",
      "\n",
      "              precision    recall  f1-score   support\n",
      "\n",
      "           0       0.75      0.69      0.72       245\n",
      "           1       0.81      0.65      0.73       228\n",
      "           2       0.53      0.22      0.31       148\n",
      "           3       0.77      0.37      0.50       177\n",
      "           4       0.83      0.64      0.72       292\n",
      "           5       0.69      0.69      0.69       343\n",
      "           6       0.56      0.29      0.39       106\n",
      "           7       0.71      0.55      0.62       231\n",
      "           8       0.80      0.49      0.60       214\n",
      "\n",
      "   micro avg       0.74      0.56      0.63      1984\n",
      "   macro avg       0.72      0.51      0.59      1984\n",
      "weighted avg       0.73      0.56      0.62      1984\n",
      " samples avg       0.74      0.61      0.62      1984\n",
      "\n"
     ]
    },
    {
     "name": "stderr",
     "output_type": "stream",
     "text": [
      "c:\\Users\\Ikhlasse\\anaconda3\\envs\\SML\\Lib\\site-packages\\sklearn\\metrics\\_classification.py:1509: UndefinedMetricWarning: Precision is ill-defined and being set to 0.0 in samples with no predicted labels. Use `zero_division` parameter to control this behavior.\n",
      "  _warn_prf(average, modifier, f\"{metric.capitalize()} is\", len(result))\n"
     ]
    }
   ],
   "source": [
    "m_rf = RandomForestClassifier(n_estimators = int(best_params[\"n_estimators\"]), max_depth = int(best_params[\"max_depth\"]), max_leaf_nodes = int(best_params[\"max_leaf_nodes\"]), min_samples_split = int(best_params[\"min_samples_split\"]), max_features = int(best_params[\"max_features\"]))\n",
    "multi_target_rf = MultiOutputClassifier(m_rf).fit(X_train, y_train)\n",
    "y_pred = multi_target_rf.predict(X_test)\n",
    "\n",
    "print('Accuracy:', accuracy_score(y_test, y_pred), \"\\n\")\n",
    "print(classification_report(y_test, y_pred))"
   ]
  },
  {
   "cell_type": "code",
   "execution_count": 46,
   "metadata": {},
   "outputs": [
    {
     "data": {
      "text/plain": [
       "<sklearn.metrics._plot.confusion_matrix.ConfusionMatrixDisplay at 0x131e69e9490>"
      ]
     },
     "execution_count": 46,
     "metadata": {},
     "output_type": "execute_result"
    },
    {
     "data": {
      "image/png": "[encoded data removed]",
      "text/plain": [
       "<Figure size 640x480 with 2 Axes>"
      ]
     },
     "metadata": {},
     "output_type": "display_data"
    }
   ],
   "source": [
    "ConfusionMatrixDisplay.from_predictions(y_test.argmax(axis=1), y_pred.argmax(axis=1))"
   ]
  },
  {
   "cell_type": "code",
   "execution_count": null,
   "metadata": {},
   "outputs": [],
   "source": [
    "# look at with no clustering"
   ]
  },
  {
   "cell_type": "markdown",
   "metadata": {},
   "source": [
    "## manual"
   ]
  },
  {
   "cell_type": "code",
   "execution_count": 47,
   "metadata": {},
   "outputs": [
    {
     "ename": "NameError",
     "evalue": "name 'labels_manual' is not defined",
     "output_type": "error",
     "traceback": [
      "\u001b[1;31m---------------------------------------------------------------------------\u001b[0m",
      "\u001b[1;31mNameError\u001b[0m                                 Traceback (most recent call last)",
      "Cell \u001b[1;32mIn[47], line 1\u001b[0m\n\u001b[1;32m----> 1\u001b[0m y \u001b[38;5;241m=\u001b[39m \u001b[43mlabels_manual\u001b[49m\n\u001b[0;32m      2\u001b[0m X \u001b[38;5;241m=\u001b[39m fingerprint\n\u001b[0;32m      4\u001b[0m X_train, X_test, y_train, y_test \u001b[38;5;241m=\u001b[39m train_test_split(X, y, test_size\u001b[38;5;241m=\u001b[39m\u001b[38;5;241m0.2\u001b[39m, random_state\u001b[38;5;241m=\u001b[39m\u001b[38;5;241m12345\u001b[39m)\n",
      "\u001b[1;31mNameError\u001b[0m: name 'labels_manual' is not defined"
     ]
    }
   ],
   "source": [
    "y = labels_manual\n",
    "X = fingerprint\n",
    "\n",
    "X_train, X_test, y_train, y_test = train_test_split(X, y, test_size=0.2, random_state=12345)"
   ]
  },
  {
   "cell_type": "code",
   "execution_count": null,
   "metadata": {},
   "outputs": [
    {
     "name": "stdout",
     "output_type": "stream",
     "text": [
      "Accuracy: 0.11031518624641834 \n",
      "\n",
      "              precision    recall  f1-score   support\n",
      "\n",
      "           0       0.85      0.69      0.77       363\n",
      "           1       0.47      0.31      0.37       206\n",
      "           2       0.69      0.40      0.51       219\n",
      "           3       0.60      0.33      0.43       202\n",
      "           4       0.68      0.49      0.57       218\n",
      "           5       0.69      0.47      0.56       249\n",
      "           6       0.43      0.11      0.17        55\n",
      "           7       0.55      0.25      0.35       126\n",
      "           8       0.59      0.36      0.45       275\n",
      "\n",
      "   micro avg       0.67      0.44      0.53      1913\n",
      "   macro avg       0.62      0.38      0.46      1913\n",
      "weighted avg       0.66      0.44      0.52      1913\n",
      " samples avg       0.61      0.46      0.49      1913\n",
      "\n",
      "[[1 0 1 ... 0 0 0]\n",
      " [1 0 0 ... 0 0 0]\n",
      " [0 0 0 ... 0 0 0]\n",
      " ...\n",
      " [1 0 0 ... 0 0 0]\n",
      " [0 0 0 ... 0 0 1]\n",
      " [0 0 0 ... 0 0 0]]\n"
     ]
    },
    {
     "name": "stderr",
     "output_type": "stream",
     "text": [
      "C:\\Users\\jazzs\\AppData\\Roaming\\Python\\Python311\\site-packages\\sklearn\\metrics\\_classification.py:1509: UndefinedMetricWarning: Precision is ill-defined and being set to 0.0 in samples with no predicted labels. Use `zero_division` parameter to control this behavior.\n",
      "  _warn_prf(average, modifier, f\"{metric.capitalize()} is\", len(result))\n"
     ]
    }
   ],
   "source": [
    "m_rf = RandomForestClassifier(n_estimators = 10, max_features = 3).fit(X_train, y_train)\n",
    "multi_target_rf = MultiOutputClassifier(m_rf).fit(X_train, y_train)\n",
    "y_pred = multi_target_rf.predict(X_test)\n",
    "\n",
    "print('Accuracy:', accuracy_score(y_test, y_pred), \"\\n\")\n",
    "print(classification_report(y_test, y_pred))\n",
    "\n",
    "print(y_pred)\n"
   ]
  },
  {
   "cell_type": "code",
   "execution_count": null,
   "metadata": {},
   "outputs": [
    {
     "data": {
      "text/plain": [
       "<sklearn.metrics._plot.confusion_matrix.ConfusionMatrixDisplay at 0x13e9bf19b50>"
      ]
     },
     "execution_count": 10,
     "metadata": {},
     "output_type": "execute_result"
    },
    {
     "data": {
      "image/png": "[encoded data removed]",
      "text/plain": [
       "<Figure size 640x480 with 2 Axes>"
      ]
     },
     "metadata": {},
     "output_type": "display_data"
    }
   ],
   "source": [
    "ConfusionMatrixDisplay.from_predictions(y_test.values.argmax(axis=1), y_pred.argmax(axis=1))"
   ]
  },
  {
   "cell_type": "markdown",
   "metadata": {},
   "source": [
    "## hrc"
   ]
  },
  {
   "cell_type": "code",
   "execution_count": null,
   "metadata": {},
   "outputs": [],
   "source": [
    "y = labels_hrc\n",
    "X = fingerprint\n",
    "\n",
    "X_train, X_test, y_train, y_test = train_test_split(X, y, test_size=0.2, random_state=12345)\n"
   ]
  },
  {
   "cell_type": "code",
   "execution_count": null,
   "metadata": {},
   "outputs": [
    {
     "name": "stdout",
     "output_type": "stream",
     "text": [
      "Accuracy: 0.20916905444126074 \n",
      "\n",
      "              precision    recall  f1-score   support\n",
      "\n",
      "           0       0.73      0.52      0.60       244\n",
      "           1       0.72      0.40      0.52       150\n",
      "           2       0.41      0.09      0.15        76\n",
      "           3       0.83      0.92      0.87       562\n",
      "           4       0.59      0.25      0.35       106\n",
      "           5       0.67      0.32      0.43       177\n",
      "           6       0.47      0.39      0.43        76\n",
      "           7       0.81      0.55      0.66       292\n",
      "           8       0.46      0.20      0.27       148\n",
      "\n",
      "   micro avg       0.75      0.55      0.64      1831\n",
      "   macro avg       0.63      0.40      0.48      1831\n",
      "weighted avg       0.71      0.55      0.60      1831\n",
      " samples avg       0.78      0.61      0.64      1831\n",
      "\n"
     ]
    },
    {
     "name": "stderr",
     "output_type": "stream",
     "text": [
      "C:\\Users\\jazzs\\AppData\\Roaming\\Python\\Python311\\site-packages\\sklearn\\metrics\\_classification.py:1509: UndefinedMetricWarning: Precision is ill-defined and being set to 0.0 in samples with no predicted labels. Use `zero_division` parameter to control this behavior.\n",
      "  _warn_prf(average, modifier, f\"{metric.capitalize()} is\", len(result))\n"
     ]
    }
   ],
   "source": [
    "m_rf = RandomForestClassifier(n_estimators = 10, max_features = 3).fit(X_train, y_train)\n",
    "multi_target_rf = MultiOutputClassifier(m_rf).fit(X_train, y_train)\n",
    "y_pred = multi_target_rf.predict(X_test)\n",
    "\n",
    "print('Accuracy:', accuracy_score(y_test, y_pred), \"\\n\")\n",
    "print(classification_report(y_test, y_pred))"
   ]
  },
  {
   "cell_type": "code",
   "execution_count": null,
   "metadata": {},
   "outputs": [
    {
     "data": {
      "text/plain": [
       "<sklearn.metrics._plot.confusion_matrix.ConfusionMatrixDisplay at 0x13e9ee0bed0>"
      ]
     },
     "execution_count": 13,
     "metadata": {},
     "output_type": "execute_result"
    },
    {
     "data": {
      "image/png": "[encoded data removed]",
      "text/plain": [
       "<Figure size 640x480 with 2 Axes>"
      ]
     },
     "metadata": {},
     "output_type": "display_data"
    }
   ],
   "source": [
    "ConfusionMatrixDisplay.from_predictions(y_test.values.argmax(axis=1), y_pred.argmax(axis=1))"
   ]
  },
  {
   "cell_type": "code",
   "execution_count": null,
   "metadata": {},
   "outputs": [],
   "source": []
  }
 ],
 "metadata": {
  "kernelspec": {
   "display_name": "SML",
   "language": "python",
   "name": "python3"
  },
  "language_info": {
   "codemirror_mode": {
    "name": "ipython",
    "version": 3
   },
   "file_extension": ".py",
   "mimetype": "text/x-python",
   "name": "python",
   "nbconvert_exporter": "python",
   "pygments_lexer": "ipython3",
   "version": "3.11.8"
  }
 },
 "nbformat": 4,
 "nbformat_minor": 2
}
